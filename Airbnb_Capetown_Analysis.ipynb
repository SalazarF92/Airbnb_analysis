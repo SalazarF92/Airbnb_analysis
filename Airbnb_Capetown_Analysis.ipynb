{
  "nbformat": 4,
  "nbformat_minor": 0,
  "metadata": {
    "colab": {
      "provenance": [],
      "collapsed_sections": [],
      "toc_visible": true,
      "include_colab_link": true
    },
    "kernelspec": {
      "name": "python3",
      "display_name": "Python 3"
    }
  },
  "cells": [
    {
      "cell_type": "markdown",
      "metadata": {
        "id": "view-in-github",
        "colab_type": "text"
      },
      "source": [
        "<a href=\"https://colab.research.google.com/github/SalazarF92/Airbnb_analysis/blob/main/Airbnb_Capetown_Analysis.ipynb\" target=\"_parent\"><img src=\"https://colab.research.google.com/assets/colab-badge.svg\" alt=\"Open In Colab\"/></a>"
      ]
    },
    {
      "cell_type": "markdown",
      "metadata": {
        "id": "kLI0gJtzDGuQ"
      },
      "source": [
        "<img alt=\"Colaboratory logo\" width=\"15%\" src=\"https://raw.githubusercontent.com/carlosfab/escola-data-science/master/img/novo_logo_bg_claro.png\">\n",
        "\n",
        "#### **Data Science na Prática 3.0** - Análise de Flavio Salazar - Aspirante a Ciência de Dados\n",
        "*by [sigmoidal.ai](https://sigmoidal.ai)*\n",
        "\n",
        "---\n",
        "\n",
        "# Análise dos Dados do Airbnb - *CAPE TOWN*\n",
        "\n",
        "O [Airbnb](https://www.airbnb.com.br/) já é considerado como sendo a **maior empresa hoteleira da atualidade**. Ah, o detalhe é que ele **não possui nenhum hotel**!\n",
        "\n",
        "Conectando pessoas que querem viajar (e se hospedar) com anfitriões que querem alugar seus imóveis de maneira prática, o Airbnb fornece uma plataforma inovadora para tornar essa hospedagem alternativa.\n",
        "\n",
        "No final de 2018, a Startup fundada 10 anos atrás, já havia **hospedado mais de 300 milhões** de pessoas ao redor de todo o mundo, desafiando as redes hoteleiras tradicionais.\n",
        "\n",
        "Uma das iniciativas do Airbnb é disponibilizar dados do site, para algumas das principais cidades do mundo. Por meio do portal [Inside Airbnb](http://insideairbnb.com/get-the-data.html), é possível baixar uma grande quantidade de dados para desenvolver projetos e soluções de *Data Science*.\n",
        "\n",
        "<center><img alt=\"Analisando Airbnb\" width=\"10%\" src=\"https://www.area360.com.au/wp-content/uploads/2017/09/airbnb-logo.jpg\"></center>\n",
        "\n",
        "**Neste *notebook*, iremos analisar os dados referentes à cidade de Cape Town, e ver quais insights podem ser extraídos a partir de dados brutos. Lembrando que é uma cidade pertencente à Africa do Sul, e seu turismo vem crescendo consideravelmente desde a Copa do Mundo, na qual foi sediada no país em 2010.**"
      ]
    },
    {
      "cell_type": "markdown",
      "metadata": {
        "id": "0zxQHhIUDF_2"
      },
      "source": [
        "## Obtenção dos Dados\n",
        "  "
      ]
    },
    {
      "cell_type": "code",
      "metadata": {
        "id": "Vhp2wMPgJ6zX"
      },
      "source": [
        "# importar os pacotes necessarios\n",
        "import pandas as pd\n",
        "import matplotlib.pyplot as plt\n",
        "import math\n"
      ],
      "execution_count": null,
      "outputs": []
    },
    {
      "cell_type": "markdown",
      "source": [
        "**Após obter as informações diretamente do http://insideairbnb.com/get-the-data/, foi realizado o upload ao dropbox, e através de link compartilhado, a captação dos dados como leitura csv utilizando a biblioteca do pandas.**"
      ],
      "metadata": {
        "id": "CoSw_aJ_F1d6"
      }
    },
    {
      "cell_type": "code",
      "metadata": {
        "id": "tUmoAT8DLQ5T"
      },
      "source": [
        "# importar o arquivo listings.csv para um DataFrame\n",
        "df_cptown = pd.read_csv(\"https://www.dropbox.com/s/2pdjh6d9xs1i5dv/listings.csv?dl=1\")"
      ],
      "execution_count": null,
      "outputs": []
    },
    {
      "cell_type": "markdown",
      "metadata": {
        "id": "qb5By2nIMS6m"
      },
      "source": [
        "## Análise dos Dados\n"
      ]
    },
    {
      "cell_type": "markdown",
      "metadata": {
        "id": "RYgvuebKNg8-"
      },
      "source": [
        "**Dicionário das variáveis**\n",
        "\n",
        "Utilizando como referência o link de descrição das variáveis dos dados exibidos - https://docs.google.com/spreadsheets/d/1iWCNJcSutYqpULSQHlNyGInUvHg2BoUGoNRIGa6Szc4/edit#gid=1938308660 - temos como principais variáveis a serem analisadas:\n",
        "\n",
        "* `id` - Identificador único do Airbnb representando o imóvel\n",
        "* `name` - Nome postado pelo anfitrião (Sem descrição no documento)\n",
        "* `host_id` - Identificador único do anfitrião (Sem descrição no documento)\n",
        "* `host_name` - Nome do anfitrião (Sem descrição no documento)\n",
        "* `neighbourhood_group` - Sem nenhum valor disponibilizado neste documento, porém pela documentação indica como um código de geolocalização utilizando a latitude e longitude em relação aos bairros.\n",
        "* `latitude` - Utiliza o sistema WGS84 para projeção de latitude e longitude\n",
        "* `longitude` - Utiliza o sistema WGS84 para projeção de latitude e longitude\n",
        "* `room_type` - Classificação da acomodação por tipe de espaço (Quarto com banheiro, casa inteira e etc.) -> Sem descrição no documento\n",
        "* `price` - Preço diário da acomodação\n",
        "* `minimun_nights` - número mínimo de noites para realizar a locação\n",
        "* `number_of_reviews` - Número de avaliações que a acomodação recebeu\n",
        "* `last_review` - Data da última avaliação realizada\n",
        "* `calculated_host_listings_count` - Número de acomodações que o anfitrião tem na região pesquisada\n",
        "* `availability_365` - Números de dias disponíveis para locação com base no calendário de 365 dias\n",
        "* `number_of_reviews_ltm` - Número de avaliações que a acomodação tem nos últimos 12 meses\n",
        "* `license` - Sem descrição ou valor válido neste documento\n",
        "\n",
        "\n",
        "Antes de iniciar qualquer análise, vamos verificar a cara do nosso *dataset*, analisando as 5 primeiras entradas."
      ]
    },
    {
      "cell_type": "code",
      "metadata": {
        "id": "2iS_dae7YQtO",
        "colab": {
          "base_uri": "https://localhost:8080/",
          "height": 444
        },
        "outputId": "8b6e161b-854d-46f4-9a81-72237dfc4d89"
      },
      "source": [
        "# mostrar as 5 primeiras entradas\n",
        "df_cptown.head()\n"
      ],
      "execution_count": null,
      "outputs": [
        {
          "output_type": "execute_result",
          "data": {
            "text/plain": [
              "         id                                            name   host_id  \\\n",
              "0  30332317                               Riverside cottage  98554302   \n",
              "1   9126484                        Jubilee Square Apartment   3410651   \n",
              "2  44482125                                  Willow Cottage  98554302   \n",
              "3  12105523                                       Bush Room  58287766   \n",
              "4  14921766  Seabiscuit Farm Cottage with spectacular views  58287766   \n",
              "\n",
              "  host_name  neighbourhood_group neighbourhood  latitude  longitude  \\\n",
              "0     Shané                  NaN       Ward 15 -34.03002   18.82662   \n",
              "1     Bruce                  NaN       Ward 61 -34.19248   18.43270   \n",
              "2     Shané                  NaN       Ward 15 -34.02830   18.82758   \n",
              "3     Peter                  NaN       Ward 15 -34.03149   18.82689   \n",
              "4     Peter                  NaN       Ward 15 -34.03003   18.82356   \n",
              "\n",
              "         room_type  price  minimum_nights  number_of_reviews last_review  \\\n",
              "0  Entire home/apt   1350               2                  2  2022-01-04   \n",
              "1  Entire home/apt   1750               2                 15  2022-04-09   \n",
              "2  Entire home/apt   1350               1                  0         NaN   \n",
              "3  Entire home/apt   1436               1                  0         NaN   \n",
              "4  Entire home/apt   2871               1                  1  2018-03-25   \n",
              "\n",
              "   reviews_per_month  calculated_host_listings_count  availability_365  \\\n",
              "0               0.07                               7               281   \n",
              "1               0.19                               1               363   \n",
              "2                NaN                               7               260   \n",
              "3                NaN                               5               320   \n",
              "4               0.02                               5               337   \n",
              "\n",
              "   number_of_reviews_ltm  license  \n",
              "0                      1      NaN  \n",
              "1                      2      NaN  \n",
              "2                      0      NaN  \n",
              "3                      0      NaN  \n",
              "4                      0      NaN  "
            ],
            "text/html": [
              "\n",
              "  <div id=\"df-e5bbd9c8-e30e-49ad-af23-f8cee78f3c39\">\n",
              "    <div class=\"colab-df-container\">\n",
              "      <div>\n",
              "<style scoped>\n",
              "    .dataframe tbody tr th:only-of-type {\n",
              "        vertical-align: middle;\n",
              "    }\n",
              "\n",
              "    .dataframe tbody tr th {\n",
              "        vertical-align: top;\n",
              "    }\n",
              "\n",
              "    .dataframe thead th {\n",
              "        text-align: right;\n",
              "    }\n",
              "</style>\n",
              "<table border=\"1\" class=\"dataframe\">\n",
              "  <thead>\n",
              "    <tr style=\"text-align: right;\">\n",
              "      <th></th>\n",
              "      <th>id</th>\n",
              "      <th>name</th>\n",
              "      <th>host_id</th>\n",
              "      <th>host_name</th>\n",
              "      <th>neighbourhood_group</th>\n",
              "      <th>neighbourhood</th>\n",
              "      <th>latitude</th>\n",
              "      <th>longitude</th>\n",
              "      <th>room_type</th>\n",
              "      <th>price</th>\n",
              "      <th>minimum_nights</th>\n",
              "      <th>number_of_reviews</th>\n",
              "      <th>last_review</th>\n",
              "      <th>reviews_per_month</th>\n",
              "      <th>calculated_host_listings_count</th>\n",
              "      <th>availability_365</th>\n",
              "      <th>number_of_reviews_ltm</th>\n",
              "      <th>license</th>\n",
              "    </tr>\n",
              "  </thead>\n",
              "  <tbody>\n",
              "    <tr>\n",
              "      <th>0</th>\n",
              "      <td>30332317</td>\n",
              "      <td>Riverside cottage</td>\n",
              "      <td>98554302</td>\n",
              "      <td>Shané</td>\n",
              "      <td>NaN</td>\n",
              "      <td>Ward 15</td>\n",
              "      <td>-34.03002</td>\n",
              "      <td>18.82662</td>\n",
              "      <td>Entire home/apt</td>\n",
              "      <td>1350</td>\n",
              "      <td>2</td>\n",
              "      <td>2</td>\n",
              "      <td>2022-01-04</td>\n",
              "      <td>0.07</td>\n",
              "      <td>7</td>\n",
              "      <td>281</td>\n",
              "      <td>1</td>\n",
              "      <td>NaN</td>\n",
              "    </tr>\n",
              "    <tr>\n",
              "      <th>1</th>\n",
              "      <td>9126484</td>\n",
              "      <td>Jubilee Square Apartment</td>\n",
              "      <td>3410651</td>\n",
              "      <td>Bruce</td>\n",
              "      <td>NaN</td>\n",
              "      <td>Ward 61</td>\n",
              "      <td>-34.19248</td>\n",
              "      <td>18.43270</td>\n",
              "      <td>Entire home/apt</td>\n",
              "      <td>1750</td>\n",
              "      <td>2</td>\n",
              "      <td>15</td>\n",
              "      <td>2022-04-09</td>\n",
              "      <td>0.19</td>\n",
              "      <td>1</td>\n",
              "      <td>363</td>\n",
              "      <td>2</td>\n",
              "      <td>NaN</td>\n",
              "    </tr>\n",
              "    <tr>\n",
              "      <th>2</th>\n",
              "      <td>44482125</td>\n",
              "      <td>Willow Cottage</td>\n",
              "      <td>98554302</td>\n",
              "      <td>Shané</td>\n",
              "      <td>NaN</td>\n",
              "      <td>Ward 15</td>\n",
              "      <td>-34.02830</td>\n",
              "      <td>18.82758</td>\n",
              "      <td>Entire home/apt</td>\n",
              "      <td>1350</td>\n",
              "      <td>1</td>\n",
              "      <td>0</td>\n",
              "      <td>NaN</td>\n",
              "      <td>NaN</td>\n",
              "      <td>7</td>\n",
              "      <td>260</td>\n",
              "      <td>0</td>\n",
              "      <td>NaN</td>\n",
              "    </tr>\n",
              "    <tr>\n",
              "      <th>3</th>\n",
              "      <td>12105523</td>\n",
              "      <td>Bush Room</td>\n",
              "      <td>58287766</td>\n",
              "      <td>Peter</td>\n",
              "      <td>NaN</td>\n",
              "      <td>Ward 15</td>\n",
              "      <td>-34.03149</td>\n",
              "      <td>18.82689</td>\n",
              "      <td>Entire home/apt</td>\n",
              "      <td>1436</td>\n",
              "      <td>1</td>\n",
              "      <td>0</td>\n",
              "      <td>NaN</td>\n",
              "      <td>NaN</td>\n",
              "      <td>5</td>\n",
              "      <td>320</td>\n",
              "      <td>0</td>\n",
              "      <td>NaN</td>\n",
              "    </tr>\n",
              "    <tr>\n",
              "      <th>4</th>\n",
              "      <td>14921766</td>\n",
              "      <td>Seabiscuit Farm Cottage with spectacular views</td>\n",
              "      <td>58287766</td>\n",
              "      <td>Peter</td>\n",
              "      <td>NaN</td>\n",
              "      <td>Ward 15</td>\n",
              "      <td>-34.03003</td>\n",
              "      <td>18.82356</td>\n",
              "      <td>Entire home/apt</td>\n",
              "      <td>2871</td>\n",
              "      <td>1</td>\n",
              "      <td>1</td>\n",
              "      <td>2018-03-25</td>\n",
              "      <td>0.02</td>\n",
              "      <td>5</td>\n",
              "      <td>337</td>\n",
              "      <td>0</td>\n",
              "      <td>NaN</td>\n",
              "    </tr>\n",
              "  </tbody>\n",
              "</table>\n",
              "</div>\n",
              "      <button class=\"colab-df-convert\" onclick=\"convertToInteractive('df-e5bbd9c8-e30e-49ad-af23-f8cee78f3c39')\"\n",
              "              title=\"Convert this dataframe to an interactive table.\"\n",
              "              style=\"display:none;\">\n",
              "        \n",
              "  <svg xmlns=\"http://www.w3.org/2000/svg\" height=\"24px\"viewBox=\"0 0 24 24\"\n",
              "       width=\"24px\">\n",
              "    <path d=\"M0 0h24v24H0V0z\" fill=\"none\"/>\n",
              "    <path d=\"M18.56 5.44l.94 2.06.94-2.06 2.06-.94-2.06-.94-.94-2.06-.94 2.06-2.06.94zm-11 1L8.5 8.5l.94-2.06 2.06-.94-2.06-.94L8.5 2.5l-.94 2.06-2.06.94zm10 10l.94 2.06.94-2.06 2.06-.94-2.06-.94-.94-2.06-.94 2.06-2.06.94z\"/><path d=\"M17.41 7.96l-1.37-1.37c-.4-.4-.92-.59-1.43-.59-.52 0-1.04.2-1.43.59L10.3 9.45l-7.72 7.72c-.78.78-.78 2.05 0 2.83L4 21.41c.39.39.9.59 1.41.59.51 0 1.02-.2 1.41-.59l7.78-7.78 2.81-2.81c.8-.78.8-2.07 0-2.86zM5.41 20L4 18.59l7.72-7.72 1.47 1.35L5.41 20z\"/>\n",
              "  </svg>\n",
              "      </button>\n",
              "      \n",
              "  <style>\n",
              "    .colab-df-container {\n",
              "      display:flex;\n",
              "      flex-wrap:wrap;\n",
              "      gap: 12px;\n",
              "    }\n",
              "\n",
              "    .colab-df-convert {\n",
              "      background-color: #E8F0FE;\n",
              "      border: none;\n",
              "      border-radius: 50%;\n",
              "      cursor: pointer;\n",
              "      display: none;\n",
              "      fill: #1967D2;\n",
              "      height: 32px;\n",
              "      padding: 0 0 0 0;\n",
              "      width: 32px;\n",
              "    }\n",
              "\n",
              "    .colab-df-convert:hover {\n",
              "      background-color: #E2EBFA;\n",
              "      box-shadow: 0px 1px 2px rgba(60, 64, 67, 0.3), 0px 1px 3px 1px rgba(60, 64, 67, 0.15);\n",
              "      fill: #174EA6;\n",
              "    }\n",
              "\n",
              "    [theme=dark] .colab-df-convert {\n",
              "      background-color: #3B4455;\n",
              "      fill: #D2E3FC;\n",
              "    }\n",
              "\n",
              "    [theme=dark] .colab-df-convert:hover {\n",
              "      background-color: #434B5C;\n",
              "      box-shadow: 0px 1px 3px 1px rgba(0, 0, 0, 0.15);\n",
              "      filter: drop-shadow(0px 1px 2px rgba(0, 0, 0, 0.3));\n",
              "      fill: #FFFFFF;\n",
              "    }\n",
              "  </style>\n",
              "\n",
              "      <script>\n",
              "        const buttonEl =\n",
              "          document.querySelector('#df-e5bbd9c8-e30e-49ad-af23-f8cee78f3c39 button.colab-df-convert');\n",
              "        buttonEl.style.display =\n",
              "          google.colab.kernel.accessAllowed ? 'block' : 'none';\n",
              "\n",
              "        async function convertToInteractive(key) {\n",
              "          const element = document.querySelector('#df-e5bbd9c8-e30e-49ad-af23-f8cee78f3c39');\n",
              "          const dataTable =\n",
              "            await google.colab.kernel.invokeFunction('convertToInteractive',\n",
              "                                                     [key], {});\n",
              "          if (!dataTable) return;\n",
              "\n",
              "          const docLinkHtml = 'Like what you see? Visit the ' +\n",
              "            '<a target=\"_blank\" href=https://colab.research.google.com/notebooks/data_table.ipynb>data table notebook</a>'\n",
              "            + ' to learn more about interactive tables.';\n",
              "          element.innerHTML = '';\n",
              "          dataTable['output_type'] = 'display_data';\n",
              "          await google.colab.output.renderOutput(dataTable, element);\n",
              "          const docLink = document.createElement('div');\n",
              "          docLink.innerHTML = docLinkHtml;\n",
              "          element.appendChild(docLink);\n",
              "        }\n",
              "      </script>\n",
              "    </div>\n",
              "  </div>\n",
              "  "
            ]
          },
          "metadata": {},
          "execution_count": 3
        }
      ]
    },
    {
      "cell_type": "markdown",
      "metadata": {
        "id": "6-B_qtEaYEd-"
      },
      "source": [
        "### **Q1. Quantos atributos (variáveis) e quantas entradas o nosso conjunto de dados possui? Quais os tipos das variáveis?**"
      ]
    },
    {
      "cell_type": "code",
      "metadata": {
        "id": "TFRK0tniLV-G",
        "colab": {
          "base_uri": "https://localhost:8080/"
        },
        "outputId": "fc27c561-1af6-4f7a-f6f5-68613ca68eed"
      },
      "source": [
        "# identificar o volume de dados do DataFrame\n",
        "print(\"Entradas (rows):\\t {}\".format(df_cptown.shape[0]))\n",
        "print(\"Variáveis (columns):\\t {}\".format(df_cptown.shape[1]))\n",
        "# verificar as 5 primeiras entradas do dataset\n"
      ],
      "execution_count": null,
      "outputs": [
        {
          "output_type": "stream",
          "name": "stdout",
          "text": [
            "Entradas (rows):\t 18903\n",
            "Variáveis (columns):\t 18\n"
          ]
        }
      ]
    },
    {
      "cell_type": "markdown",
      "metadata": {
        "id": "yz1urSUGW9iE"
      },
      "source": [
        "### **Q2. Qual a porcentagem de valores ausentes no *dataset*?**"
      ]
    },
    {
      "cell_type": "code",
      "source": [
        "# ordenar em ordem decrescente as variáveis por seus valores ausentes\n",
        "(df_cptown.isnull().sum() / df_cptown.shape[0]).sort_values(ascending=False)"
      ],
      "metadata": {
        "colab": {
          "base_uri": "https://localhost:8080/"
        },
        "id": "3QycQfg59Ka6",
        "outputId": "e076f446-7a1e-4a62-aa49-134986e8ae61"
      },
      "execution_count": null,
      "outputs": [
        {
          "output_type": "execute_result",
          "data": {
            "text/plain": [
              "license                           1.000000\n",
              "neighbourhood_group               1.000000\n",
              "reviews_per_month                 0.272073\n",
              "last_review                       0.272073\n",
              "host_name                         0.000053\n",
              "minimum_nights                    0.000000\n",
              "number_of_reviews_ltm             0.000000\n",
              "availability_365                  0.000000\n",
              "calculated_host_listings_count    0.000000\n",
              "number_of_reviews                 0.000000\n",
              "id                                0.000000\n",
              "name                              0.000000\n",
              "room_type                         0.000000\n",
              "longitude                         0.000000\n",
              "latitude                          0.000000\n",
              "neighbourhood                     0.000000\n",
              "host_id                           0.000000\n",
              "price                             0.000000\n",
              "dtype: float64"
            ]
          },
          "metadata": {},
          "execution_count": 5
        }
      ]
    },
    {
      "cell_type": "markdown",
      "source": [
        "**Através dos resultados de dados ausentes acima, verificamos que a coluna de 'license' e 'neighbourhood_group' contém valores nulos para todas as linhas, sendo assim, eliminaremos ambas as colunas para uma limpeza de dados já de imediato. Já 'last_review' e 'reviews_per_month' tem quase 30% de dados ausentes. Avaliaremos estas colunas na sequência.**"
      ],
      "metadata": {
        "id": "fxDJk79p9INh"
      }
    },
    {
      "cell_type": "code",
      "metadata": {
        "id": "plk2FjbCXOqP",
        "colab": {
          "base_uri": "https://localhost:8080/"
        },
        "outputId": "e5ec00b2-6841-4a89-a714-90a6fa51c046"
      },
      "source": [
        "df_cptown.drop(['license', 'neighbourhood_group'], axis=1, inplace = True)\n",
        "# ordenar em ordem decrescente as variáveis por seus valores ausentes eliminando as colunas citadas\n",
        "df_cptown.isna().sum().sort_values(ascending=False)"
      ],
      "execution_count": null,
      "outputs": [
        {
          "output_type": "execute_result",
          "data": {
            "text/plain": [
              "last_review                       5143\n",
              "reviews_per_month                 5143\n",
              "host_name                            1\n",
              "id                                   0\n",
              "name                                 0\n",
              "host_id                              0\n",
              "neighbourhood                        0\n",
              "latitude                             0\n",
              "longitude                            0\n",
              "room_type                            0\n",
              "price                                0\n",
              "minimum_nights                       0\n",
              "number_of_reviews                    0\n",
              "calculated_host_listings_count       0\n",
              "availability_365                     0\n",
              "number_of_reviews_ltm                0\n",
              "dtype: int64"
            ]
          },
          "metadata": {},
          "execution_count": 6
        }
      ]
    },
    {
      "cell_type": "markdown",
      "metadata": {
        "id": "iHXvvHIxaoNc"
      },
      "source": [
        "### **Q3. Qual o tipo de distribuição das variáveis?** "
      ]
    },
    {
      "cell_type": "markdown",
      "source": [
        "Abaixo no histograma, conseguimos visualizar outliers em algumas variáveis, considerando a extensão do eixo X sem valores aparentes. Sendo assim será necessário trabalhar os dados para um melhor refinamento dos mesmos."
      ],
      "metadata": {
        "id": "Y2SAAPPwAenQ"
      }
    },
    {
      "cell_type": "code",
      "metadata": {
        "id": "q2wWSfeRbmBo",
        "colab": {
          "base_uri": "https://localhost:8080/",
          "height": 607
        },
        "outputId": "644fe446-27b9-4665-8535-7f160b103a25"
      },
      "source": [
        "# plotar o histograma das variáveis numéricas\n",
        "df_cptown.hist(figsize=tuple([15,10]));"
      ],
      "execution_count": null,
      "outputs": [
        {
          "output_type": "display_data",
          "data": {
            "text/plain": [
              "<Figure size 1080x720 with 12 Axes>"
            ],
            "image/png": "[encoded data removed]"
          },
          "metadata": {
            "needs_background": "light"
          }
        }
      ]
    },
    {
      "cell_type": "markdown",
      "metadata": {
        "id": "7x4aw1j5wNmn"
      },
      "source": [
        "### **Q4. Qual a média dos preços de aluguel?**\n"
      ]
    },
    {
      "cell_type": "markdown",
      "source": [
        "Utilizando a função **describe**, rapidamente adquirimos a média de preços das acomodações. Contudo, se compararmos com a mediana, que representa a linha de 50%, repara-se um distanciamento de extrema discrepância entre elas. Sendo assim devemos tratar os prováveis outliers, fator que afeta na resultante final da média, não trazendo para realidade condizente de dados que gostaríamos de mapear."
      ],
      "metadata": {
        "id": "ZJmMpCPKCgZO"
      }
    },
    {
      "cell_type": "code",
      "metadata": {
        "id": "ff-8gUahLk-C",
        "colab": {
          "base_uri": "https://localhost:8080/"
        },
        "outputId": "e6741236-1b16-4681-86a2-c5b531819d03"
      },
      "source": [
        "# ver a média da coluna `price``\n",
        "df_cptown.price.describe()\n"
      ],
      "execution_count": null,
      "outputs": [
        {
          "output_type": "execute_result",
          "data": {
            "text/plain": [
              "count     18903.000000\n",
              "mean       2248.552981\n",
              "std        5225.645780\n",
              "min         153.000000\n",
              "25%         630.000000\n",
              "50%        1000.000000\n",
              "75%        2000.000000\n",
              "max      155364.000000\n",
              "Name: price, dtype: float64"
            ]
          },
          "metadata": {},
          "execution_count": 8
        }
      ]
    },
    {
      "cell_type": "markdown",
      "source": [
        "Buscando agora os outliers fora das regiões de quartiles de 25% e 75%, faremos um corte nesses valores para refinar as informações "
      ],
      "metadata": {
        "id": "xX_SionFD0d3"
      }
    },
    {
      "cell_type": "code",
      "source": [
        "q1_price = df_cptown.price.quantile(.25)\n",
        "q3_price = df_cptown.price.quantile(.75)\n",
        "IQR_price = q3_price - q1_price\n",
        "\n",
        "#limites para corte de outliers\n",
        "min_price = q1_price - (1.5 * IQR_price)\n",
        "max_price = q3_price + (1.5 * IQR_price)\n",
        "\n",
        "def get_percentage(value):\n",
        "  return len(df_cptown[df_cptown.price > value])/df_cptown.shape[0]*100\n",
        "\n",
        "\n",
        "print(\"Percentual de outliers em valores máximos é de {}\".format(len(df_cptown[df_cptown.price > q3_price])))\n",
        "print(\"Isso representa {:.2f}% da quantidade de acomodações disponíveis.\".format(get_percentage(q3_price)))\n",
        "print(\"Utilizando os padrões normais 1.5*IQR, teríamos o preço corte padrão em {}. Contudo isso representa {:.2f}% do dataset.\".format(max_price, get_percentage(max_price)))\n",
        "print(\"Valor IQR do preço é de: \", IQR_price)\n",
        "print(\"Valor mínimo de corte é: \", min_price)\n",
        "# print(\"Valor máximo de corte é: \", max_price)"
      ],
      "metadata": {
        "colab": {
          "base_uri": "https://localhost:8080/"
        },
        "id": "gnDtg6_TEGTX",
        "outputId": "2b208f75-ff05-4ab0-fc82-acda37e1d1e3"
      },
      "execution_count": null,
      "outputs": [
        {
          "output_type": "stream",
          "name": "stdout",
          "text": [
            "Percentual de outliers em valores máximos é de 4619\n",
            "Isso representa 24.44% da quantidade de acomodações disponíveis.\n",
            "Utilizando os padrões normais 1.5*IQR, teríamos o preço corte padrão em 4055.0. Contudo isso representa 11.07% do dataset.\n",
            "Valor IQR do preço é de:  1370.0\n",
            "Valor mínimo de corte é:  -1425.0\n"
          ]
        }
      ]
    },
    {
      "cell_type": "markdown",
      "source": [
        "O corte de 10% do conteúdo de um dataset pode ser muito impactante. Considerando isso, aplicaremos uma condição que será decrementado a constante de multiplicação do IQR de maneira que chegue nos 7% de dados outliers eliminados."
      ],
      "metadata": {
        "id": "CQSeyOfbk75k"
      }
    },
    {
      "cell_type": "code",
      "source": [
        "\n",
        "max_price = q3_price + (1.5 * IQR_price)\n",
        "dec_IQR = 1.5\n",
        "#para alterar o valor de saída para aumentar ou diminuir o percentual de corte de outliers, alterar o valor abaixo\n",
        "drop_outliers_price = 0.07\n",
        "\n",
        "while  len(df_cptown[df_cptown.price > max_price])/df_cptown.shape[0] > drop_outliers_price:  \n",
        "  dec_IQR = dec_IQR + 0.05\n",
        "  max_price = q3_price + (dec_IQR * IQR_price)\n",
        "\n",
        "print(\"Novo máximo preço: {:.2f}\".format(max_price))\n",
        "\n",
        "  "
      ],
      "metadata": {
        "colab": {
          "base_uri": "https://localhost:8080/"
        },
        "id": "cBeJ8-OilLO7",
        "outputId": "663ee2e3-57f3-439a-9c89-abc2eb3d8399"
      },
      "execution_count": null,
      "outputs": [
        {
          "output_type": "stream",
          "name": "stdout",
          "text": [
            "Novo máximo preço: 5904.50\n"
          ]
        }
      ]
    },
    {
      "cell_type": "markdown",
      "source": [
        "Observamos que o valor mínimo está fora da range de uma realidade, neste caso. Somado a isso, e o fato de que estamos dentro de uma plataforma de locação envolvendo valores financeiros, é improvável que algum anfitrião deixaria sua acomodação em valor \"0.00\" de aluguel. Sendo assim pegaremos o mínimo valor disponibilizado no dataframe para referenciar o corte mínimo."
      ],
      "metadata": {
        "id": "N_FgfmCuGsy9"
      }
    },
    {
      "cell_type": "code",
      "source": [
        "#obtendo então o valor mínimo\n",
        "print('Valor mínimo de corte é: ', df_cptown.price.min())\n",
        "print ('Valor máximo de corte é: {:.2f}'.format(max_price))"
      ],
      "metadata": {
        "colab": {
          "base_uri": "https://localhost:8080/"
        },
        "id": "bDEDghPHHnNy",
        "outputId": "7294ceac-5359-4721-cc6e-da805204b04e"
      },
      "execution_count": null,
      "outputs": [
        {
          "output_type": "stream",
          "name": "stdout",
          "text": [
            "Valor mínimo de corte é:  153\n",
            "Valor máximo de corte é: 5904.50\n"
          ]
        }
      ]
    },
    {
      "cell_type": "code",
      "source": [
        "#plotando o conjunto original com outliers em um gráfico de box\n",
        "plt.subplots(figsize=(15,3));\n",
        "df_cptown.price.plot(kind='box', vert=False)\n",
        "plt.show()\n",
        "print(\"O conjunto do dataset contém {} linhas\".format(df_cptown.shape[0]))\n",
        "print(\"O registro de elementos acima do valor de preço de corte máximo {:.2f}, é de {} linhas\".format(max_price, len(df_cptown[df_cptown.price > max_price])))\n",
        "print(\"Representação percentual da amostragem de corte é {:.2f}%\".format(len(df_cptown[df_cptown.price > max_price])/df_cptown.shape[0] * 100))"
      ],
      "metadata": {
        "colab": {
          "base_uri": "https://localhost:8080/",
          "height": 266
        },
        "id": "SX8S8ShwIInv",
        "outputId": "cbcc9b24-da78-4c30-bb3e-d3a50a57e9ee"
      },
      "execution_count": null,
      "outputs": [
        {
          "output_type": "display_data",
          "data": {
            "text/plain": [
              "<Figure size 1080x216 with 1 Axes>"
            ],
            "image/png": "[encoded data removed]"
          },
          "metadata": {
            "needs_background": "light"
          }
        },
        {
          "output_type": "stream",
          "name": "stdout",
          "text": [
            "O conjunto do dataset contém 18903 linhas\n",
            "O registro de elementos acima do valor de preço de corte máximo 5904.50, é de 1307 linhas\n",
            "Representação percentual da amostragem de corte é 6.91%\n"
          ]
        }
      ]
    },
    {
      "cell_type": "code",
      "source": [
        "#plotando agora o conjunto com os valores em corte de preço\n",
        "df_clean = df_cptown.copy()\n",
        "df_clean.drop(df_clean.index[df_clean.price > max_price], axis=0, inplace=True)\n",
        "df_clean.price.plot(kind='box', vert=False)\n",
        "plt.show()"
      ],
      "metadata": {
        "colab": {
          "base_uri": "https://localhost:8080/",
          "height": 265
        },
        "id": "4wQSiTXBI1qI",
        "outputId": "e07b913e-070f-476c-fd88-99f106686cb7"
      },
      "execution_count": null,
      "outputs": [
        {
          "output_type": "display_data",
          "data": {
            "text/plain": [
              "<Figure size 432x288 with 1 Axes>"
            ],
            "image/png": "[encoded data removed]"
          },
          "metadata": {
            "needs_background": "light"
          }
        }
      ]
    },
    {
      "cell_type": "markdown",
      "source": [
        "Agora sim temos uma relação mais próxima para uma análise de dados coesa, ainda que tenhamos outliers de preço, já nos permite recalcular uma média plausível a mediana. E como pode-se observar abaixo saímos de 2248 de média para 1374. Muito mais próximo ao valor da mediana."
      ],
      "metadata": {
        "id": "eOlAwy9YZ8ib"
      }
    },
    {
      "cell_type": "code",
      "source": [
        "df_clean.price.describe()"
      ],
      "metadata": {
        "colab": {
          "base_uri": "https://localhost:8080/"
        },
        "id": "FHHhXXDEqQtq",
        "outputId": "55f6509b-31c9-4a70-c914-2d7b27379ce5"
      },
      "execution_count": null,
      "outputs": [
        {
          "output_type": "execute_result",
          "data": {
            "text/plain": [
              "count    17596.000000\n",
              "mean      1374.308934\n",
              "std       1130.130720\n",
              "min        153.000000\n",
              "25%        600.000000\n",
              "50%        950.000000\n",
              "75%       1700.000000\n",
              "max       5902.000000\n",
              "Name: price, dtype: float64"
            ]
          },
          "metadata": {},
          "execution_count": 14
        }
      ]
    },
    {
      "cell_type": "markdown",
      "metadata": {
        "id": "IXn2oIo5qx-w"
      },
      "source": [
        "### **Q4. Qual a correlação existente entre as variáveis**"
      ]
    },
    {
      "cell_type": "code",
      "metadata": {
        "id": "x2ayzBajqxyd",
        "colab": {
          "base_uri": "https://localhost:8080/",
          "height": 269
        },
        "outputId": "6ca27abe-f838-4468-ae26-655fe2a0a39f"
      },
      "source": [
        "# criar uma matriz de correlação\n",
        "df_correlated = df_clean.drop(['id', 'host_id', 'number_of_reviews_ltm', 'calculated_host_listings_count'], axis=1).corr()\n",
        "# mostrar a matriz de correlação\n",
        "df_correlated"
      ],
      "execution_count": null,
      "outputs": [
        {
          "output_type": "execute_result",
          "data": {
            "text/plain": [
              "                   latitude  longitude     price  minimum_nights  \\\n",
              "latitude           1.000000  -0.160822 -0.124487        0.001853   \n",
              "longitude         -0.160822   1.000000 -0.134864       -0.016069   \n",
              "price             -0.124487  -0.134864  1.000000        0.029058   \n",
              "minimum_nights     0.001853  -0.016069  0.029058        1.000000   \n",
              "number_of_reviews -0.026668  -0.165338 -0.083733       -0.044563   \n",
              "reviews_per_month  0.048508  -0.117098 -0.162708       -0.078527   \n",
              "availability_365   0.030457   0.138066 -0.095268       -0.021101   \n",
              "\n",
              "                   number_of_reviews  reviews_per_month  availability_365  \n",
              "latitude                   -0.026668           0.048508          0.030457  \n",
              "longitude                  -0.165338          -0.117098          0.138066  \n",
              "price                      -0.083733          -0.162708         -0.095268  \n",
              "minimum_nights             -0.044563          -0.078527         -0.021101  \n",
              "number_of_reviews           1.000000           0.553490         -0.083247  \n",
              "reviews_per_month           0.553490           1.000000          0.071226  \n",
              "availability_365           -0.083247           0.071226          1.000000  "
            ],
            "text/html": [
              "\n",
              "  <div id=\"df-f31a6095-d0b7-4fd1-8053-5a9b1ac54dca\">\n",
              "    <div class=\"colab-df-container\">\n",
              "      <div>\n",
              "<style scoped>\n",
              "    .dataframe tbody tr th:only-of-type {\n",
              "        vertical-align: middle;\n",
              "    }\n",
              "\n",
              "    .dataframe tbody tr th {\n",
              "        vertical-align: top;\n",
              "    }\n",
              "\n",
              "    .dataframe thead th {\n",
              "        text-align: right;\n",
              "    }\n",
              "</style>\n",
              "<table border=\"1\" class=\"dataframe\">\n",
              "  <thead>\n",
              "    <tr style=\"text-align: right;\">\n",
              "      <th></th>\n",
              "      <th>latitude</th>\n",
              "      <th>longitude</th>\n",
              "      <th>price</th>\n",
              "      <th>minimum_nights</th>\n",
              "      <th>number_of_reviews</th>\n",
              "      <th>reviews_per_month</th>\n",
              "      <th>availability_365</th>\n",
              "    </tr>\n",
              "  </thead>\n",
              "  <tbody>\n",
              "    <tr>\n",
              "      <th>latitude</th>\n",
              "      <td>1.000000</td>\n",
              "      <td>-0.160822</td>\n",
              "      <td>-0.124487</td>\n",
              "      <td>0.001853</td>\n",
              "      <td>-0.026668</td>\n",
              "      <td>0.048508</td>\n",
              "      <td>0.030457</td>\n",
              "    </tr>\n",
              "    <tr>\n",
              "      <th>longitude</th>\n",
              "      <td>-0.160822</td>\n",
              "      <td>1.000000</td>\n",
              "      <td>-0.134864</td>\n",
              "      <td>-0.016069</td>\n",
              "      <td>-0.165338</td>\n",
              "      <td>-0.117098</td>\n",
              "      <td>0.138066</td>\n",
              "    </tr>\n",
              "    <tr>\n",
              "      <th>price</th>\n",
              "      <td>-0.124487</td>\n",
              "      <td>-0.134864</td>\n",
              "      <td>1.000000</td>\n",
              "      <td>0.029058</td>\n",
              "      <td>-0.083733</td>\n",
              "      <td>-0.162708</td>\n",
              "      <td>-0.095268</td>\n",
              "    </tr>\n",
              "    <tr>\n",
              "      <th>minimum_nights</th>\n",
              "      <td>0.001853</td>\n",
              "      <td>-0.016069</td>\n",
              "      <td>0.029058</td>\n",
              "      <td>1.000000</td>\n",
              "      <td>-0.044563</td>\n",
              "      <td>-0.078527</td>\n",
              "      <td>-0.021101</td>\n",
              "    </tr>\n",
              "    <tr>\n",
              "      <th>number_of_reviews</th>\n",
              "      <td>-0.026668</td>\n",
              "      <td>-0.165338</td>\n",
              "      <td>-0.083733</td>\n",
              "      <td>-0.044563</td>\n",
              "      <td>1.000000</td>\n",
              "      <td>0.553490</td>\n",
              "      <td>-0.083247</td>\n",
              "    </tr>\n",
              "    <tr>\n",
              "      <th>reviews_per_month</th>\n",
              "      <td>0.048508</td>\n",
              "      <td>-0.117098</td>\n",
              "      <td>-0.162708</td>\n",
              "      <td>-0.078527</td>\n",
              "      <td>0.553490</td>\n",
              "      <td>1.000000</td>\n",
              "      <td>0.071226</td>\n",
              "    </tr>\n",
              "    <tr>\n",
              "      <th>availability_365</th>\n",
              "      <td>0.030457</td>\n",
              "      <td>0.138066</td>\n",
              "      <td>-0.095268</td>\n",
              "      <td>-0.021101</td>\n",
              "      <td>-0.083247</td>\n",
              "      <td>0.071226</td>\n",
              "      <td>1.000000</td>\n",
              "    </tr>\n",
              "  </tbody>\n",
              "</table>\n",
              "</div>\n",
              "      <button class=\"colab-df-convert\" onclick=\"convertToInteractive('df-f31a6095-d0b7-4fd1-8053-5a9b1ac54dca')\"\n",
              "              title=\"Convert this dataframe to an interactive table.\"\n",
              "              style=\"display:none;\">\n",
              "        \n",
              "  <svg xmlns=\"http://www.w3.org/2000/svg\" height=\"24px\"viewBox=\"0 0 24 24\"\n",
              "       width=\"24px\">\n",
              "    <path d=\"M0 0h24v24H0V0z\" fill=\"none\"/>\n",
              "    <path d=\"M18.56 5.44l.94 2.06.94-2.06 2.06-.94-2.06-.94-.94-2.06-.94 2.06-2.06.94zm-11 1L8.5 8.5l.94-2.06 2.06-.94-2.06-.94L8.5 2.5l-.94 2.06-2.06.94zm10 10l.94 2.06.94-2.06 2.06-.94-2.06-.94-.94-2.06-.94 2.06-2.06.94z\"/><path d=\"M17.41 7.96l-1.37-1.37c-.4-.4-.92-.59-1.43-.59-.52 0-1.04.2-1.43.59L10.3 9.45l-7.72 7.72c-.78.78-.78 2.05 0 2.83L4 21.41c.39.39.9.59 1.41.59.51 0 1.02-.2 1.41-.59l7.78-7.78 2.81-2.81c.8-.78.8-2.07 0-2.86zM5.41 20L4 18.59l7.72-7.72 1.47 1.35L5.41 20z\"/>\n",
              "  </svg>\n",
              "      </button>\n",
              "      \n",
              "  <style>\n",
              "    .colab-df-container {\n",
              "      display:flex;\n",
              "      flex-wrap:wrap;\n",
              "      gap: 12px;\n",
              "    }\n",
              "\n",
              "    .colab-df-convert {\n",
              "      background-color: #E8F0FE;\n",
              "      border: none;\n",
              "      border-radius: 50%;\n",
              "      cursor: pointer;\n",
              "      display: none;\n",
              "      fill: #1967D2;\n",
              "      height: 32px;\n",
              "      padding: 0 0 0 0;\n",
              "      width: 32px;\n",
              "    }\n",
              "\n",
              "    .colab-df-convert:hover {\n",
              "      background-color: #E2EBFA;\n",
              "      box-shadow: 0px 1px 2px rgba(60, 64, 67, 0.3), 0px 1px 3px 1px rgba(60, 64, 67, 0.15);\n",
              "      fill: #174EA6;\n",
              "    }\n",
              "\n",
              "    [theme=dark] .colab-df-convert {\n",
              "      background-color: #3B4455;\n",
              "      fill: #D2E3FC;\n",
              "    }\n",
              "\n",
              "    [theme=dark] .colab-df-convert:hover {\n",
              "      background-color: #434B5C;\n",
              "      box-shadow: 0px 1px 3px 1px rgba(0, 0, 0, 0.15);\n",
              "      filter: drop-shadow(0px 1px 2px rgba(0, 0, 0, 0.3));\n",
              "      fill: #FFFFFF;\n",
              "    }\n",
              "  </style>\n",
              "\n",
              "      <script>\n",
              "        const buttonEl =\n",
              "          document.querySelector('#df-f31a6095-d0b7-4fd1-8053-5a9b1ac54dca button.colab-df-convert');\n",
              "        buttonEl.style.display =\n",
              "          google.colab.kernel.accessAllowed ? 'block' : 'none';\n",
              "\n",
              "        async function convertToInteractive(key) {\n",
              "          const element = document.querySelector('#df-f31a6095-d0b7-4fd1-8053-5a9b1ac54dca');\n",
              "          const dataTable =\n",
              "            await google.colab.kernel.invokeFunction('convertToInteractive',\n",
              "                                                     [key], {});\n",
              "          if (!dataTable) return;\n",
              "\n",
              "          const docLinkHtml = 'Like what you see? Visit the ' +\n",
              "            '<a target=\"_blank\" href=https://colab.research.google.com/notebooks/data_table.ipynb>data table notebook</a>'\n",
              "            + ' to learn more about interactive tables.';\n",
              "          element.innerHTML = '';\n",
              "          dataTable['output_type'] = 'display_data';\n",
              "          await google.colab.output.renderOutput(dataTable, element);\n",
              "          const docLink = document.createElement('div');\n",
              "          docLink.innerHTML = docLinkHtml;\n",
              "          element.appendChild(docLink);\n",
              "        }\n",
              "      </script>\n",
              "    </div>\n",
              "  </div>\n",
              "  "
            ]
          },
          "metadata": {},
          "execution_count": 15
        }
      ]
    },
    {
      "cell_type": "markdown",
      "source": [],
      "metadata": {
        "id": "Iis-JWq7UNPw"
      }
    },
    {
      "cell_type": "code",
      "metadata": {
        "id": "91UujDr6ueqE",
        "colab": {
          "base_uri": "https://localhost:8080/",
          "height": 356
        },
        "outputId": "eee9de84-633e-41ab-9796-3b492034d1f1"
      },
      "source": [
        "# plotar um heatmap a partir das correlações\n",
        "import seaborn as sns\n",
        "\n",
        "sns.heatmap(df_correlated, annot=True, cmap=\"RdYlBu\", fmt='.2f',square=True);\n"
      ],
      "execution_count": null,
      "outputs": [
        {
          "output_type": "display_data",
          "data": {
            "text/plain": [
              "<Figure size 432x288 with 2 Axes>"
            ],
            "image/png": "[encoded data removed]"
          },
          "metadata": {
            "needs_background": "light"
          }
        }
      ]
    },
    {
      "cell_type": "markdown",
      "source": [
        "Através do mapa de calor acima, é peceptível praticamente nenhuma correlação entre a maioria das variáveis, nem mesmo relacionando latitude e longitude como referência, o que deveria enquadrar uma localização de alto ou baixo padrão de locação, Contudo, neste caso as variáveis estão sendo observadas isoladamentes e não como um conjunto latitude + longitude x price."
      ],
      "metadata": {
        "id": "H2oFm4JeUWTL"
      }
    },
    {
      "cell_type": "markdown",
      "metadata": {
        "id": "7b6RMWpuHKN-"
      },
      "source": [
        "### **Q5. Qual o tipo de imóvel mais alugado no Airbnb?**"
      ]
    },
    {
      "cell_type": "code",
      "metadata": {
        "id": "ueLPNWvPHgfB",
        "colab": {
          "base_uri": "https://localhost:8080/"
        },
        "outputId": "3381742e-4647-465c-b32f-ecf8fca28115"
      },
      "source": [
        "# mostrar a quantidade de cada tipo de imóvel disponível\n",
        "df_clean.room_type.value_counts()"
      ],
      "execution_count": null,
      "outputs": [
        {
          "output_type": "execute_result",
          "data": {
            "text/plain": [
              "Entire home/apt    12649\n",
              "Private room        4666\n",
              "Hotel room           199\n",
              "Shared room           82\n",
              "Name: room_type, dtype: int64"
            ]
          },
          "metadata": {},
          "execution_count": 17
        }
      ]
    },
    {
      "cell_type": "code",
      "metadata": {
        "id": "EvwoO-XAHhIm",
        "colab": {
          "base_uri": "https://localhost:8080/"
        },
        "outputId": "7b0751d7-4f77-477c-eb88-50bb7a006018"
      },
      "source": [
        "# mostrar a porcentagem de cada tipo de imóvel disponível\n",
        "print(df_clean.room_type.value_counts() / df_clean.shape[0] * 100)"
      ],
      "execution_count": null,
      "outputs": [
        {
          "output_type": "stream",
          "name": "stdout",
          "text": [
            "Entire home/apt    71.885656\n",
            "Private room       26.517390\n",
            "Hotel room          1.130939\n",
            "Shared room         0.466015\n",
            "Name: room_type, dtype: float64\n"
          ]
        }
      ]
    },
    {
      "cell_type": "code",
      "source": [
        "df_clean['reviews_per_month'] = df_clean['reviews_per_month'].fillna(0)\n",
        "room_types = df_clean['room_type'].unique()\n",
        "df_clean[['room_type','number_of_reviews','reviews_per_month']].copy()\n",
        "jump_range = df_cptown.index.difference(df_clean.index)\n",
        "reviews_sum = {}\n",
        "\n",
        "#criado um objeto com os valores de soma dos reviews = 0\n",
        "for i in room_types:\n",
        "  reviews_sum[i] = 0.00\n",
        "\n",
        "#adicionado ao objeto a soma dos reviews de cada tipo de acomodação\n",
        "for i in range(df_clean.shape[0]):\n",
        "  if i in jump_range:\n",
        "    continue\n",
        "  reviews_sum[df_clean.room_type[i]] = reviews_sum[df_clean.room_type[i]] + df_clean.reviews_per_month[i]\n",
        "\n",
        "name_values = df_clean.room_type.value_counts().keys().tolist()\n",
        "sum_values = df_clean.room_type.value_counts().tolist()\n",
        "\n",
        "print(reviews_sum)\n",
        "\n",
        "#tira-se então a média de reviews por mês para cada tipo de acomodação\n",
        "for i in range(len(name_values)):\n",
        "  reviews_sum[name_values[i]] = reviews_sum[name_values[i]] / sum_values[i]\n",
        "\n",
        "print(reviews_sum)\n",
        "\n",
        "# df_clean.groupby(['room_type']).reviews_per_month.mean()"
      ],
      "metadata": {
        "colab": {
          "base_uri": "https://localhost:8080/"
        },
        "id": "XCE8PseSZTDo",
        "outputId": "7aa56f5e-8479-461f-e101-50f1bc7805a7"
      },
      "execution_count": null,
      "outputs": [
        {
          "output_type": "stream",
          "name": "stdout",
          "text": [
            "{'Entire home/apt': 9551.660000000049, 'Private room': 1139.9499999999957, 'Shared room': 13.01, 'Hotel room': 31.14999999999999}\n",
            "{'Entire home/apt': 0.755131630958973, 'Private room': 0.24430990141448686, 'Shared room': 0.15865853658536586, 'Hotel room': 0.15653266331658286}\n"
          ]
        }
      ]
    },
    {
      "cell_type": "markdown",
      "source": [
        "Considerando que a média de reviews por mês PODE ser um indicador que contribua na frequência de locação (não sendo obrigatório um feedback do cliente que locou), conclui-se que o fato de mais de 70% das acomodações ser do tipo casa ou apartamento inteiros e o número de reviews por mês médio ser o maior considerando a avaliação acima, ratifica esse tipo de acomodação como a mais buscada para locação."
      ],
      "metadata": {
        "id": "2tNYukkV6ut5"
      }
    },
    {
      "cell_type": "markdown",
      "metadata": {
        "id": "MFa5NbnLJMcd"
      },
      "source": [
        "### **Q6. Qual a localidade mais cara do dataset?**\n",
        "\n"
      ]
    },
    {
      "cell_type": "code",
      "metadata": {
        "id": "MD_xa143JZpi",
        "colab": {
          "base_uri": "https://localhost:8080/"
        },
        "outputId": "67935e19-2ca3-4949-a8d2-be616f66b6d1"
      },
      "source": [
        "# ver preços por bairros, na média\n",
        "print(df_clean.neighbourhood.value_counts())\n",
        "# neighb_list = df_clean.neighbourhood.value_counts().keys().tolist()\n",
        "# price_list = df_clean.neighbourhood.value_counts().tolist()\n",
        "# df_clean.groupby(['neighbourhood'],).price.mean().sort_index()"
      ],
      "execution_count": null,
      "outputs": [
        {
          "output_type": "stream",
          "name": "stdout",
          "text": [
            "Ward 115    3426\n",
            "Ward 54     1864\n",
            "Ward 77     1052\n",
            "Ward 23      977\n",
            "Ward 64      865\n",
            "            ... \n",
            "Ward 106       1\n",
            "Ward 20        1\n",
            "Ward 101       1\n",
            "Ward 50        1\n",
            "Ward 95        1\n",
            "Name: neighbourhood, Length: 93, dtype: int64\n"
          ]
        }
      ]
    },
    {
      "cell_type": "code",
      "source": [
        "df_clean.groupby(['neighbourhood']).price.describe().sort_values(['mean'], ascending=False)"
      ],
      "metadata": {
        "colab": {
          "base_uri": "https://localhost:8080/",
          "height": 455
        },
        "id": "DSYL7JWmudFe",
        "outputId": "5535ee4e-1d05-4f90-e4c3-a730519ad4d0"
      },
      "execution_count": null,
      "outputs": [
        {
          "output_type": "execute_result",
          "data": {
            "text/plain": [
              "                count         mean          std    min    25%     50%     75%  \\\n",
              "neighbourhood                                                                   \n",
              "Ward 69         321.0  2012.557632  1461.794590  295.0  790.0  1500.0  3000.0   \n",
              "Ward 74         755.0  1972.328477  1375.207560  252.0  865.5  1500.0  2700.0   \n",
              "Ward 71         223.0  1958.968610  1536.141834  230.0  800.0  1350.0  2992.0   \n",
              "Ward 62         364.0  1925.604396  1440.837328  234.0  850.0  1442.5  2900.0   \n",
              "Ward 54        1864.0  1885.904506  1376.841754  240.0  840.0  1400.0  2615.5   \n",
              "...               ...          ...          ...    ...    ...     ...     ...   \n",
              "Ward 106          1.0   300.000000          NaN  300.0  300.0   300.0   300.0   \n",
              "Ward 91           2.0   300.000000     0.000000  300.0  300.0   300.0   300.0   \n",
              "Ward 76           1.0   220.000000          NaN  220.0  220.0   220.0   220.0   \n",
              "Ward 50           1.0   180.000000          NaN  180.0  180.0   180.0   180.0   \n",
              "Ward 81           1.0   160.000000          NaN  160.0  160.0   160.0   160.0   \n",
              "\n",
              "                  max  \n",
              "neighbourhood          \n",
              "Ward 69        5882.0  \n",
              "Ward 74        5900.0  \n",
              "Ward 71        5900.0  \n",
              "Ward 62        5630.0  \n",
              "Ward 54        5902.0  \n",
              "...               ...  \n",
              "Ward 106        300.0  \n",
              "Ward 91         300.0  \n",
              "Ward 76         220.0  \n",
              "Ward 50         180.0  \n",
              "Ward 81         160.0  \n",
              "\n",
              "[93 rows x 8 columns]"
            ],
            "text/html": [
              "\n",
              "  <div id=\"df-d4c3c78b-7979-4a8a-ad55-7187ad3818c0\">\n",
              "    <div class=\"colab-df-container\">\n",
              "      <div>\n",
              "<style scoped>\n",
              "    .dataframe tbody tr th:only-of-type {\n",
              "        vertical-align: middle;\n",
              "    }\n",
              "\n",
              "    .dataframe tbody tr th {\n",
              "        vertical-align: top;\n",
              "    }\n",
              "\n",
              "    .dataframe thead th {\n",
              "        text-align: right;\n",
              "    }\n",
              "</style>\n",
              "<table border=\"1\" class=\"dataframe\">\n",
              "  <thead>\n",
              "    <tr style=\"text-align: right;\">\n",
              "      <th></th>\n",
              "      <th>count</th>\n",
              "      <th>mean</th>\n",
              "      <th>std</th>\n",
              "      <th>min</th>\n",
              "      <th>25%</th>\n",
              "      <th>50%</th>\n",
              "      <th>75%</th>\n",
              "      <th>max</th>\n",
              "    </tr>\n",
              "    <tr>\n",
              "      <th>neighbourhood</th>\n",
              "      <th></th>\n",
              "      <th></th>\n",
              "      <th></th>\n",
              "      <th></th>\n",
              "      <th></th>\n",
              "      <th></th>\n",
              "      <th></th>\n",
              "      <th></th>\n",
              "    </tr>\n",
              "  </thead>\n",
              "  <tbody>\n",
              "    <tr>\n",
              "      <th>Ward 69</th>\n",
              "      <td>321.0</td>\n",
              "      <td>2012.557632</td>\n",
              "      <td>1461.794590</td>\n",
              "      <td>295.0</td>\n",
              "      <td>790.0</td>\n",
              "      <td>1500.0</td>\n",
              "      <td>3000.0</td>\n",
              "      <td>5882.0</td>\n",
              "    </tr>\n",
              "    <tr>\n",
              "      <th>Ward 74</th>\n",
              "      <td>755.0</td>\n",
              "      <td>1972.328477</td>\n",
              "      <td>1375.207560</td>\n",
              "      <td>252.0</td>\n",
              "      <td>865.5</td>\n",
              "      <td>1500.0</td>\n",
              "      <td>2700.0</td>\n",
              "      <td>5900.0</td>\n",
              "    </tr>\n",
              "    <tr>\n",
              "      <th>Ward 71</th>\n",
              "      <td>223.0</td>\n",
              "      <td>1958.968610</td>\n",
              "      <td>1536.141834</td>\n",
              "      <td>230.0</td>\n",
              "      <td>800.0</td>\n",
              "      <td>1350.0</td>\n",
              "      <td>2992.0</td>\n",
              "      <td>5900.0</td>\n",
              "    </tr>\n",
              "    <tr>\n",
              "      <th>Ward 62</th>\n",
              "      <td>364.0</td>\n",
              "      <td>1925.604396</td>\n",
              "      <td>1440.837328</td>\n",
              "      <td>234.0</td>\n",
              "      <td>850.0</td>\n",
              "      <td>1442.5</td>\n",
              "      <td>2900.0</td>\n",
              "      <td>5630.0</td>\n",
              "    </tr>\n",
              "    <tr>\n",
              "      <th>Ward 54</th>\n",
              "      <td>1864.0</td>\n",
              "      <td>1885.904506</td>\n",
              "      <td>1376.841754</td>\n",
              "      <td>240.0</td>\n",
              "      <td>840.0</td>\n",
              "      <td>1400.0</td>\n",
              "      <td>2615.5</td>\n",
              "      <td>5902.0</td>\n",
              "    </tr>\n",
              "    <tr>\n",
              "      <th>...</th>\n",
              "      <td>...</td>\n",
              "      <td>...</td>\n",
              "      <td>...</td>\n",
              "      <td>...</td>\n",
              "      <td>...</td>\n",
              "      <td>...</td>\n",
              "      <td>...</td>\n",
              "      <td>...</td>\n",
              "    </tr>\n",
              "    <tr>\n",
              "      <th>Ward 106</th>\n",
              "      <td>1.0</td>\n",
              "      <td>300.000000</td>\n",
              "      <td>NaN</td>\n",
              "      <td>300.0</td>\n",
              "      <td>300.0</td>\n",
              "      <td>300.0</td>\n",
              "      <td>300.0</td>\n",
              "      <td>300.0</td>\n",
              "    </tr>\n",
              "    <tr>\n",
              "      <th>Ward 91</th>\n",
              "      <td>2.0</td>\n",
              "      <td>300.000000</td>\n",
              "      <td>0.000000</td>\n",
              "      <td>300.0</td>\n",
              "      <td>300.0</td>\n",
              "      <td>300.0</td>\n",
              "      <td>300.0</td>\n",
              "      <td>300.0</td>\n",
              "    </tr>\n",
              "    <tr>\n",
              "      <th>Ward 76</th>\n",
              "      <td>1.0</td>\n",
              "      <td>220.000000</td>\n",
              "      <td>NaN</td>\n",
              "      <td>220.0</td>\n",
              "      <td>220.0</td>\n",
              "      <td>220.0</td>\n",
              "      <td>220.0</td>\n",
              "      <td>220.0</td>\n",
              "    </tr>\n",
              "    <tr>\n",
              "      <th>Ward 50</th>\n",
              "      <td>1.0</td>\n",
              "      <td>180.000000</td>\n",
              "      <td>NaN</td>\n",
              "      <td>180.0</td>\n",
              "      <td>180.0</td>\n",
              "      <td>180.0</td>\n",
              "      <td>180.0</td>\n",
              "      <td>180.0</td>\n",
              "    </tr>\n",
              "    <tr>\n",
              "      <th>Ward 81</th>\n",
              "      <td>1.0</td>\n",
              "      <td>160.000000</td>\n",
              "      <td>NaN</td>\n",
              "      <td>160.0</td>\n",
              "      <td>160.0</td>\n",
              "      <td>160.0</td>\n",
              "      <td>160.0</td>\n",
              "      <td>160.0</td>\n",
              "    </tr>\n",
              "  </tbody>\n",
              "</table>\n",
              "<p>93 rows × 8 columns</p>\n",
              "</div>\n",
              "      <button class=\"colab-df-convert\" onclick=\"convertToInteractive('df-d4c3c78b-7979-4a8a-ad55-7187ad3818c0')\"\n",
              "              title=\"Convert this dataframe to an interactive table.\"\n",
              "              style=\"display:none;\">\n",
              "        \n",
              "  <svg xmlns=\"http://www.w3.org/2000/svg\" height=\"24px\"viewBox=\"0 0 24 24\"\n",
              "       width=\"24px\">\n",
              "    <path d=\"M0 0h24v24H0V0z\" fill=\"none\"/>\n",
              "    <path d=\"M18.56 5.44l.94 2.06.94-2.06 2.06-.94-2.06-.94-.94-2.06-.94 2.06-2.06.94zm-11 1L8.5 8.5l.94-2.06 2.06-.94-2.06-.94L8.5 2.5l-.94 2.06-2.06.94zm10 10l.94 2.06.94-2.06 2.06-.94-2.06-.94-.94-2.06-.94 2.06-2.06.94z\"/><path d=\"M17.41 7.96l-1.37-1.37c-.4-.4-.92-.59-1.43-.59-.52 0-1.04.2-1.43.59L10.3 9.45l-7.72 7.72c-.78.78-.78 2.05 0 2.83L4 21.41c.39.39.9.59 1.41.59.51 0 1.02-.2 1.41-.59l7.78-7.78 2.81-2.81c.8-.78.8-2.07 0-2.86zM5.41 20L4 18.59l7.72-7.72 1.47 1.35L5.41 20z\"/>\n",
              "  </svg>\n",
              "      </button>\n",
              "      \n",
              "  <style>\n",
              "    .colab-df-container {\n",
              "      display:flex;\n",
              "      flex-wrap:wrap;\n",
              "      gap: 12px;\n",
              "    }\n",
              "\n",
              "    .colab-df-convert {\n",
              "      background-color: #E8F0FE;\n",
              "      border: none;\n",
              "      border-radius: 50%;\n",
              "      cursor: pointer;\n",
              "      display: none;\n",
              "      fill: #1967D2;\n",
              "      height: 32px;\n",
              "      padding: 0 0 0 0;\n",
              "      width: 32px;\n",
              "    }\n",
              "\n",
              "    .colab-df-convert:hover {\n",
              "      background-color: #E2EBFA;\n",
              "      box-shadow: 0px 1px 2px rgba(60, 64, 67, 0.3), 0px 1px 3px 1px rgba(60, 64, 67, 0.15);\n",
              "      fill: #174EA6;\n",
              "    }\n",
              "\n",
              "    [theme=dark] .colab-df-convert {\n",
              "      background-color: #3B4455;\n",
              "      fill: #D2E3FC;\n",
              "    }\n",
              "\n",
              "    [theme=dark] .colab-df-convert:hover {\n",
              "      background-color: #434B5C;\n",
              "      box-shadow: 0px 1px 3px 1px rgba(0, 0, 0, 0.15);\n",
              "      filter: drop-shadow(0px 1px 2px rgba(0, 0, 0, 0.3));\n",
              "      fill: #FFFFFF;\n",
              "    }\n",
              "  </style>\n",
              "\n",
              "      <script>\n",
              "        const buttonEl =\n",
              "          document.querySelector('#df-d4c3c78b-7979-4a8a-ad55-7187ad3818c0 button.colab-df-convert');\n",
              "        buttonEl.style.display =\n",
              "          google.colab.kernel.accessAllowed ? 'block' : 'none';\n",
              "\n",
              "        async function convertToInteractive(key) {\n",
              "          const element = document.querySelector('#df-d4c3c78b-7979-4a8a-ad55-7187ad3818c0');\n",
              "          const dataTable =\n",
              "            await google.colab.kernel.invokeFunction('convertToInteractive',\n",
              "                                                     [key], {});\n",
              "          if (!dataTable) return;\n",
              "\n",
              "          const docLinkHtml = 'Like what you see? Visit the ' +\n",
              "            '<a target=\"_blank\" href=https://colab.research.google.com/notebooks/data_table.ipynb>data table notebook</a>'\n",
              "            + ' to learn more about interactive tables.';\n",
              "          element.innerHTML = '';\n",
              "          dataTable['output_type'] = 'display_data';\n",
              "          await google.colab.output.renderOutput(dataTable, element);\n",
              "          const docLink = document.createElement('div');\n",
              "          docLink.innerHTML = docLinkHtml;\n",
              "          element.appendChild(docLink);\n",
              "        }\n",
              "      </script>\n",
              "    </div>\n",
              "  </div>\n",
              "  "
            ]
          },
          "metadata": {},
          "execution_count": 21
        }
      ]
    },
    {
      "cell_type": "code",
      "source": [
        "df_clean.price.mean()"
      ],
      "metadata": {
        "colab": {
          "base_uri": "https://localhost:8080/"
        },
        "id": "8YvlNkVMV7Tp",
        "outputId": "52e8dea9-49fe-4082-c51b-0a0c6cb88e9e"
      },
      "execution_count": null,
      "outputs": [
        {
          "output_type": "execute_result",
          "data": {
            "text/plain": [
              "1374.308933848602"
            ]
          },
          "metadata": {},
          "execution_count": 22
        }
      ]
    },
    {
      "cell_type": "code",
      "source": [
        "df_filtered_price = df_clean[df_clean.price > df_clean.price.mean()]\n",
        "print(df_clean.neighbourhood.value_counts().head())\n",
        "df_filtered_price.neighbourhood.value_counts().head()\n",
        "#  df_clean.neighbourhood.value_counts()"
      ],
      "metadata": {
        "colab": {
          "base_uri": "https://localhost:8080/"
        },
        "id": "4hxeXlEPU1FQ",
        "outputId": "f58ba659-87bd-4745-e8bf-4dbe990d5bfc"
      },
      "execution_count": null,
      "outputs": [
        {
          "output_type": "stream",
          "name": "stdout",
          "text": [
            "Ward 115    3426\n",
            "Ward 54     1864\n",
            "Ward 77     1052\n",
            "Ward 23      977\n",
            "Ward 64      865\n",
            "Name: neighbourhood, dtype: int64\n"
          ]
        },
        {
          "output_type": "execute_result",
          "data": {
            "text/plain": [
              "Ward 54     946\n",
              "Ward 115    945\n",
              "Ward 74     428\n",
              "Ward 61     383\n",
              "Ward 23     361\n",
              "Name: neighbourhood, dtype: int64"
            ]
          },
          "metadata": {},
          "execution_count": 23
        }
      ]
    },
    {
      "cell_type": "markdown",
      "source": [],
      "metadata": {
        "id": "qf15eiVYbU1r"
      }
    },
    {
      "cell_type": "code",
      "metadata": {
        "id": "UxVJqJ_3W59I",
        "colab": {
          "base_uri": "https://localhost:8080/",
          "height": 471
        },
        "outputId": "376ae47a-3f98-4fa5-a750-dfe9ec53b8a6"
      },
      "source": [
        "# plotar os imóveis pela latitude-longitude\n",
        "df_clean.plot(kind='scatter',x='longitude', y='latitude', c=df_clean.price, alpha=0.2,cmap=\"RdYlBu\", s=12, figsize=(12,8));"
      ],
      "execution_count": null,
      "outputs": [
        {
          "output_type": "display_data",
          "data": {
            "text/plain": [
              "<Figure size 864x576 with 2 Axes>"
            ],
            "image/png": "[encoded data removed]"
          },
          "metadata": {
            "needs_background": "light"
          }
        }
      ]
    },
    {
      "cell_type": "markdown",
      "metadata": {
        "id": "vTneAMRUYvr1"
      },
      "source": [
        "### **Q7. Qual é a média do mínimo de noites para aluguel (minimum_nights)?**"
      ]
    },
    {
      "cell_type": "code",
      "metadata": {
        "id": "_VzNhrEgY82N",
        "colab": {
          "base_uri": "https://localhost:8080/"
        },
        "outputId": "ccf0129b-6e92-4207-9491-fe7e9fe43123"
      },
      "source": [
        "# ver a média da coluna `minimum_nights``\n",
        "df_clean.minimum_nights.describe()"
      ],
      "execution_count": null,
      "outputs": [
        {
          "output_type": "execute_result",
          "data": {
            "text/plain": [
              "count    17596.000000\n",
              "mean         4.014265\n",
              "std         14.384418\n",
              "min          1.000000\n",
              "25%          1.000000\n",
              "50%          2.000000\n",
              "75%          3.000000\n",
              "max        730.000000\n",
              "Name: minimum_nights, dtype: float64"
            ]
          },
          "metadata": {},
          "execution_count": 25
        }
      ]
    },
    {
      "cell_type": "markdown",
      "source": [
        "Vamos melhorar o valor da média para um valor mínimo de noites mais próximo de uma realidade sem outliers, ainda que estes valores não estejam tão distantes dentro de uma realidade de noites para locação, comparado a mediana. Porém temos que pensar que muitas pessoas tendem a locar acomodações apenas para os finais de semana, o que seria mais próximo da mediana, no valor de 2 noites"
      ],
      "metadata": {
        "id": "d7f6QhKZSLLl"
      }
    },
    {
      "cell_type": "markdown",
      "source": [],
      "metadata": {
        "id": "bZsaT1L-PXCr"
      }
    },
    {
      "cell_type": "code",
      "source": [
        "q1_nights = df_clean.minimum_nights.quantile(.25)\n",
        "q3_nights = df_clean.minimum_nights.quantile(.75)\n",
        "IQR_nights = q3_nights - q1_nights\n",
        "\n",
        "#limite para corte de outliers\n",
        "min_nights = q1_nights - (1.5 * IQR_nights)\n",
        "max_nights = q3_nights + (1.5 * IQR_nights)\n",
        "\n",
        "def get_percentage_nights(value):\n",
        "  return len(df_clean[df_clean.minimum_nights > value])/df_clean.shape[0]*100\n",
        "\n",
        "\n",
        "print(\"Percentual de outliers em valores máximos é de {}\".format(len(df_clean[df_clean.minimum_nights > q3_nights])))\n",
        "print(\"Isso representa {:.2f}% da quantidade de acomodações disponíveis.\".format(get_percentage_nights(q3_nights)))\n",
        "print(\"Utilizando os padrões normais 1.5*IQR, teríamos o preço corte padrão em {}. Contudo isso representa {:.2f}% do dataset.\".format(max_nights, get_percentage_nights(max_nights)))\n",
        "print(\"Valor IQR do preço é de: \", IQR_nights)\n",
        "print(\"Valor mínimo de noites de corte é: \", min_nights)\n",
        "# print(\"Valor máximo de corte é: \", max_nights)"
      ],
      "metadata": {
        "colab": {
          "base_uri": "https://localhost:8080/"
        },
        "id": "HflJnH7LPXYs",
        "outputId": "a5acab55-7e7f-44fa-8ee6-242d3dc6dd4b"
      },
      "execution_count": null,
      "outputs": [
        {
          "output_type": "stream",
          "name": "stdout",
          "text": [
            "Percentual de outliers em valores máximos é de 3696\n",
            "Isso representa 21.00% da quantidade de acomodações disponíveis.\n",
            "Utilizando os padrões normais 1.5*IQR, teríamos o preço corte padrão em 6.0. Contudo isso representa 10.25% do dataset.\n",
            "Valor IQR do preço é de:  2.0\n",
            "Valor mínimo de corte é:  -2.0\n"
          ]
        }
      ]
    },
    {
      "cell_type": "markdown",
      "source": [
        "Seguindo o mesmo raciocínio do corte de preços, o corte de 10% do conteúdo de um dataset pode ser muito impactante, ainda mais já tendo dados limpos de uma primeira análise de preço. Poderíamos utilizar o dataset original para avaliação, mas a idéia é pegar mais um subconjunto de valores já com a aplicação de um valor mais aproximado da realidade dos atributos de preço.Considerando isso, aplicaremos uma condição que será decrementado a constante de multiplicação do IQR de maneira que chegue nos 5% de dados outliers eliminados."
      ],
      "metadata": {
        "id": "AC0cHIrtQ1KE"
      }
    },
    {
      "cell_type": "code",
      "source": [
        "max_nights = q3_nights + (1.5 * IQR_nights)\n",
        "dec_IQR = 1.5\n",
        "\n",
        "#para alterar o valor de saída para aumentar ou diminuir o percentual de corte de outliers, alterar o valor abaixo\n",
        "drop_outliers_nights = 0.05\n",
        "\n",
        "while  len(df_clean[df_clean.minimum_nights > max_nights])/df_clean.shape[0] > drop_outliers_nights:  \n",
        "  dec_IQR = dec_IQR + 0.05\n",
        "  max_nights = q3_nights + (dec_IQR * IQR_nights)\n",
        "\n",
        "print(\"Novo máximo mínimo de noites é: {:.2f}\".format(max_nights))\n"
      ],
      "metadata": {
        "colab": {
          "base_uri": "https://localhost:8080/"
        },
        "id": "HUetS-L7RCQx",
        "outputId": "c5bf6b3f-f89b-48ff-90dc-ff25779fe837"
      },
      "execution_count": null,
      "outputs": [
        {
          "output_type": "stream",
          "name": "stdout",
          "text": [
            "Novo máximo mínimo de noites é: 10.10\n"
          ]
        }
      ]
    },
    {
      "cell_type": "markdown",
      "source": [
        "Observamos que o valor mínimo está fora da range de uma realidade, neste caso. Somado a isso, e o fato de que estamos dentro de uma plataforma de locação envolvendo valores mínimos de dias para locação, é impossível uma quantidade de dias negativo ou \"0.00\". Sendo assim pegaremos o mínimo valor disponibilizado no dataframe para referenciar o corte mínimo."
      ],
      "metadata": {
        "id": "TEJXi2aHRZqX"
      }
    },
    {
      "cell_type": "code",
      "source": [
        "#obtendo então o valor mínimo\n",
        "print('Valor mínimo de corte é: ', df_clean.minimum_nights.min())\n",
        "print ('Valor máximo de corte é: {:.2f}'.format(max_nights))"
      ],
      "metadata": {
        "colab": {
          "base_uri": "https://localhost:8080/"
        },
        "id": "Sm43i8AbRvxZ",
        "outputId": "f3e0ef0a-e34c-4666-d91b-4deb9d292bbe"
      },
      "execution_count": null,
      "outputs": [
        {
          "output_type": "stream",
          "name": "stdout",
          "text": [
            "Valor mínimo de corte é:  1\n",
            "Valor máximo de corte é: 10.10\n"
          ]
        }
      ]
    },
    {
      "cell_type": "code",
      "source": [
        "#plotando o conjunto original com outliers em um gráfico de box\n",
        "plt.subplots(figsize=(15,3));\n",
        "df_clean.minimum_nights.plot(kind='box', vert=False)\n",
        "plt.show()\n",
        "print(\"O conjunto do dataset contém {} linhas\".format(df_clean.shape[0]))\n",
        "print(\"O registro de elementos acima do valor de preço de corte máximo {:.2f}, é de {} linhas\".format(max_nights, len(df_clean[df_clean.minimum_nights > max_nights])))\n",
        "print(\"Representação percentual da amostragem de corte é {:.2f}%\".format(len(df_clean[df_clean.minimum_nights > max_nights])/df_clean.shape[0] * 100))"
      ],
      "metadata": {
        "colab": {
          "base_uri": "https://localhost:8080/",
          "height": 266
        },
        "id": "eASRgGQeTX7m",
        "outputId": "04dc04b5-2fde-4d6f-89de-2b20ed6987c8"
      },
      "execution_count": null,
      "outputs": [
        {
          "output_type": "display_data",
          "data": {
            "text/plain": [
              "<Figure size 1080x216 with 1 Axes>"
            ],
            "image/png": "[encoded data removed]"
          },
          "metadata": {
            "needs_background": "light"
          }
        },
        {
          "output_type": "stream",
          "name": "stdout",
          "text": [
            "O conjunto do dataset contém 17596 linhas\n",
            "O registro de elementos acima do valor de preço de corte máximo 10.10, é de 678 linhas\n",
            "Representação percentual da amostragem de corte é 3.85%\n"
          ]
        }
      ]
    },
    {
      "cell_type": "code",
      "source": [
        "#plotando agora o conjunto com os valores em corte de mínimo de noites\n",
        "df_min_nights = df_clean.copy()\n",
        "df_min_nights.drop(df_min_nights.index[df_min_nights.minimum_nights > max_nights], axis=0, inplace=True)\n",
        "df_min_nights.minimum_nights.plot(kind='box', vert=False)\n",
        "plt.show()\n",
        "print('{:.2f} é a média de mínimo de noites. Com arredondamento temos: {} diárias como valor médio.'.format(df_min_nights.minimum_nights.mean(),math.ceil(df_min_nights.minimum_nights.mean())))"
      ],
      "metadata": {
        "colab": {
          "base_uri": "https://localhost:8080/",
          "height": 283
        },
        "id": "sAszYt_qVTvJ",
        "outputId": "bc776bb1-d423-46f6-aec3-d1521a3dc426"
      },
      "execution_count": null,
      "outputs": [
        {
          "output_type": "display_data",
          "data": {
            "text/plain": [
              "<Figure size 432x288 with 1 Axes>"
            ],
            "image/png": "[encoded data removed]"
          },
          "metadata": {
            "needs_background": "light"
          }
        },
        {
          "output_type": "stream",
          "name": "stdout",
          "text": [
            "2.49 é a média de mínimo de noites. Com arredondamento temos: 3 diárias como valor médio.\n"
          ]
        }
      ]
    },
    {
      "cell_type": "markdown",
      "metadata": {
        "id": "GkvAg623RjoR"
      },
      "source": [
        "## Conclusões\n"
      ]
    },
    {
      "cell_type": "markdown",
      "metadata": {
        "id": "rbZ3Hsy9Ypw8"
      },
      "source": [
        "Considerando que este dataset tem dados resumidos, e basicamente para filtrar os outliers utilizamos primeiramente o atributo de preço de diária e posteriormente fizemos outra limpeza de dados em relação ao número mínimo de noites, a conclusão desta análise não traduz a realidade mais próxima para qualquer tomada de decisão ou uma análise mais profunda às regiões de Cape Town na África do Sul. Sendo assim, verificamos sim que existem outliers em ambas as variáveis, e uma limpeza dos dados nos permitiu trazer um plot de gráficos mais confiável. \n",
        "\n",
        "O número percentual para cortes de outliers não foi baseado em nenhum tipo de estudo estatístico para avaliar se é a melhor opção para o dataset em questão.\n",
        "\n",
        "Em relação ao tipo de acomodação (**room_type**) com maior frequência de locação, trouxemos o atributo de número de reviews por mês para cruzamento de dados à quantidade de tipo de acomodação, com a intenção de um filtro de melhor precisão de qual região tende a ter mais busca pelos usuários do Airbnb, considerando que, provavelmente, quanto mais reviews, mais vezes a acomodação PODE ter sido alugada. Porém, esta condição não é necessariamente uma regra, considerando que não existe obrigação por parte do cliente final em avaliar a acomodação que acabou optando para locação."
      ]
    }
  ]
}